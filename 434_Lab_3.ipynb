{
 "cells": [
  {
   "cell_type": "code",
   "execution_count": 28,
   "id": "d2449dc1-821a-4beb-826e-7d7d05d60ec0",
   "metadata": {},
   "outputs": [],
   "source": [
    "# Ian McLean   1877711\n",
    "# PHYS 434 Lab 3\n",
    "# 10/26/2022"
   ]
  },
  {
   "cell_type": "markdown",
   "id": "aed839d2-4128-47e2-9e50-f56b70d00d6d",
   "metadata": {},
   "source": [
    "__Rejection method__"
   ]
  },
  {
   "cell_type": "markdown",
   "id": "bb497f30-c9cf-4427-9cb6-b110c43ea1b6",
   "metadata": {},
   "source": [
    "__a. Unform sampling__"
   ]
  },
  {
   "cell_type": "markdown",
   "id": "c9306e1f-f9b9-442a-ba31-8f9ddb91f2b9",
   "metadata": {},
   "source": [
    "1). Find the maximum value of beta(α=5.0,β=3.) denoted as betamax."
   ]
  },
  {
   "cell_type": "code",
   "execution_count": 29,
   "id": "d0ac91f5-b880-406d-91aa-fad13a3bb806",
   "metadata": {},
   "outputs": [
    {
     "name": "stdout",
     "output_type": "stream",
     "text": [
      "The max value of beta(α=5.0,β=3) is: 2.305\n"
     ]
    }
   ],
   "source": [
    "# importing necessary imports\n",
    "import numpy as np\n",
    "import scipy as sp\n",
    "from scipy.stats import beta\n",
    "from matplotlib import pyplot as plt\n",
    "\n",
    "# defining a linspace for beta distribution\n",
    "x_lin = np.linspace(0, 1, 1002)[1:-1]\n",
    "# beta distribution with given parameters\n",
    "dist = beta(5, 3)\n",
    "\n",
    "# calculating max of the distribution and rounding\n",
    "betamax = max(dist.pdf(x_lin))\n",
    "betamax = np.round(betamax,3)\n",
    "print('The max value of beta(α=5.0,β=3) is: ' + str(betamax))"
   ]
  },
  {
   "cell_type": "markdown",
   "id": "4c487d80-8433-47ba-a2aa-39416904ffb8",
   "metadata": {},
   "source": [
    "In order to calculate the max value of the beta distribution, we first need to generate the beta distribution for a given x array, and given Beta parameters. In this case, the parameters are alpha = 5 and beta = 3 and this can be plotted to get a rough estimate of where the maximum on the desired interval should be. From there, we can just use the built-in max function to find the maximum value of the beta distribution and call it betamax."
   ]
  },
  {
   "cell_type": "markdown",
   "id": "c124e4b2-7aca-4535-94b2-cfd660845fd8",
   "metadata": {},
   "source": [
    "2). Generate an uniform distribution sample x between [0, 1]\n",
    "\n"
   ]
  },
  {
   "cell_type": "code",
   "execution_count": 30,
   "id": "d815e5ee-72fd-4904-8a79-d88b9886ffec",
   "metadata": {},
   "outputs": [],
   "source": [
    "# generating the uniform x distribution sample\n",
    "x = np.random.uniform(0,1,100000)"
   ]
  },
  {
   "cell_type": "markdown",
   "id": "5bcdb7a6-7cf2-4d81-800e-1528bea1e963",
   "metadata": {},
   "source": [
    "A random distribution sample is created from the uniform distribution. The size is very large to ensure that for N = 1000 later on, it is likely that enough unique points that satisfy the conditions will have been generated, and avoid repeats."
   ]
  },
  {
   "cell_type": "markdown",
   "id": "d1754006-1a3b-4691-a97f-ebc436a5ebdf",
   "metadata": {},
   "source": [
    "3). Draw another uniform distribution y between [0, betamax]\n",
    "\n"
   ]
  },
  {
   "cell_type": "code",
   "execution_count": 31,
   "id": "1ffc6690-3844-4a60-963f-62a06df0f7a5",
   "metadata": {},
   "outputs": [],
   "source": [
    "# generating the uniform y distribution sample\n",
    "y = np.random.uniform(0,betamax,100000)"
   ]
  },
  {
   "cell_type": "markdown",
   "id": "a0f53458-542e-4a09-8cda-019f02b0a955",
   "metadata": {},
   "source": [
    "In the case of the y sample, it is taken from 0 to the maximum value of the beta distribution which is betamax. Thus, all points sampled shouldn't be signifigantly above the distribution. Once again, 100k points were chosen to ensure that no repeats were needed, thus making enough unique values. "
   ]
  },
  {
   "cell_type": "markdown",
   "id": "cce5cc2a-3978-4ca8-8f27-8bdb1624ef70",
   "metadata": {},
   "source": [
    "4). For each xi, compute the event weight w(xi) and only keep xi when w(xi)≥y\n",
    "\n",
    "5). Generate this sample until accepted events N=1000 events"
   ]
  },
  {
   "cell_type": "code",
   "execution_count": 32,
   "id": "c40287aa-d7ca-4b8a-b609-a63b5bd69718",
   "metadata": {},
   "outputs": [
    {
     "name": "stdout",
     "output_type": "stream",
     "text": [
      "The length of the events sample is: 1000\n"
     ]
    }
   ],
   "source": [
    "# initializing counter and list to hold non-rejected values\n",
    "sample = []\n",
    "counter = 0\n",
    "\n",
    "# making a list of accepted x coordinates until length reaches 1000\n",
    "while len(sample) < 1000:\n",
    "    # if condition is met, append original x coordinate\n",
    "    if (dist.pdf(x[counter])/betamax) > y[counter]:\n",
    "        sample.append(x[counter])\n",
    "    #stepping counter by 1\n",
    "    counter = counter + 1\n",
    "\n",
    "print(\"The length of the events sample is: \" + str(len(sample)))"
   ]
  },
  {
   "cell_type": "markdown",
   "id": "e9cb2cdc-64ad-4e38-ba65-045351965a79",
   "metadata": {},
   "source": [
    "The code in this section will generate 1000 unique and random x values which meet the condition set by us in the while loop. A counter steps though the while loop and for the elements in the 100K long randomly generated array, they are plugged into the weight function and appended to a list if they satisfy the condition of being bigger than the corresponding y randomly generated value. Once this happens 1000 times, the while loop breaks. We can then see that the length of this array is indeed 1000."
   ]
  },
  {
   "cell_type": "markdown",
   "id": "11de0cdd-09b8-40f7-a3db-e6361eb1a93f",
   "metadata": {},
   "source": [
    "Q1. What is the event weight formula?"
   ]
  },
  {
   "cell_type": "markdown",
   "id": "090ed7cd-c60d-4571-bcb8-c8d1cbf7864c",
   "metadata": {},
   "source": [
    "In the general sense, the weight function is:\n",
    "    $$w(x) = \\frac{f(x)}{g(x)}$$\n",
    "where $f(x) = \\beta(x)$, or the beta function PDF of the uniform distribution along the x axis. In this case, our g(x) is the uniform distribution taken at 1, this $g(x) = 1$ so the weight function can be calculated as:$$w(x) = \\frac{\\beta{x}}{1 * Betamax} = \\beta(x)$$"
   ]
  },
  {
   "cell_type": "markdown",
   "id": "b42a9a2f-c003-46f8-8d6a-05aa9e3892bc",
   "metadata": {},
   "source": [
    "Q2. What is the total number of samplings (pairs of x, y) required for this MC simulation?"
   ]
  },
  {
   "cell_type": "code",
   "execution_count": 33,
   "id": "9425f9e2-5b73-4662-8046-50cfac4e781d",
   "metadata": {},
   "outputs": [
    {
     "name": "stdout",
     "output_type": "stream",
     "text": [
      "The total number of samplings required for this MC simulation is: 5662\n"
     ]
    }
   ],
   "source": [
    "print(\"The total number of samplings required for this MC simulation is: \" + str(counter))"
   ]
  },
  {
   "cell_type": "markdown",
   "id": "b2e8dce1-83e1-4b82-8b89-576f799776bd",
   "metadata": {},
   "source": [
    "In order to get the total number of samplings required for this MC simulation, we must count the counter and see how many times it had to count before the condition of list = 1000 was satisfied. In this case, we can see that it is generally around the value of 5500 to 5700 samplings as printed above, however it can very depending on the randomly generated x and y arrays."
   ]
  },
  {
   "cell_type": "markdown",
   "id": "5df86638-26c2-4409-bfab-725e392b1a60",
   "metadata": {},
   "source": [
    "__b. Gaussian sampling__\n",
    "Repeat steps above but using a Gaussian distribution sample x.\n",
    "\n",
    "Generate an uniform distribution sample x between [0, 1]\n",
    "\n",
    "Draw another uniform distribution y between [0, betamax]\n",
    "\n",
    "For each xi, compute the event weight w(xi) and only keep xi when w(xi)≥y \n",
    "\n",
    "Generate this sample until accepted events N=1000 events.\n",
    "\n"
   ]
  },
  {
   "cell_type": "code",
   "execution_count": 34,
   "id": "1a9cf66d-303d-4dad-80e0-93f2c21615c3",
   "metadata": {},
   "outputs": [
    {
     "name": "stdout",
     "output_type": "stream",
     "text": [
      "The length of the events sample is: 1000\n"
     ]
    }
   ],
   "source": [
    "# generating the gaussian x distribution sample\n",
    "x2 = np.random.normal(1.35,0.8,size = 10000)\n",
    "\n",
    "# generating the gaussian y distribution sample\n",
    "y2 = np.random.uniform(0,1,10000)\n",
    "\n",
    "# Transforming the uniform linspace with the pdf\n",
    "import scipy.stats as stats\n",
    "y_t = stats.norm.pdf(y2)\n",
    "\n",
    "# initializing counter and list to hold non-rejected values\n",
    "sample2 = []\n",
    "counter2 = 0\n",
    "\n",
    "# making a list of accepted x coordinates until length reaches 1000\n",
    "while len(sample2) < 1000:\n",
    "    # if condition is met, append original x coordinate\n",
    "    if (dist.pdf(y2[counter2]))/((y_t[counter2])*betamax) > x2[counter2]:\n",
    "        sample2.append(y2[counter2])\n",
    "   \n",
    "    #stepping counter by 1\n",
    "    counter2 = counter2 + 1\n",
    "\n",
    "print(\"The length of the events sample is: \" + str(len(sample2)))"
   ]
  },
  {
   "cell_type": "markdown",
   "id": "3b5d0f9c-74cd-4b48-a4b5-922addb786fd",
   "metadata": {},
   "source": [
    "As seen above, the code is essentially the same concept with a few minor changes. For instance, our weight function is different as $g(x)$ can no longer be 1 as it is not the uniform distribution anymore, but instead the PDF of the normal distribution from [0,1]. In order to get our array, we must change the required condition in the for loop where we are appending the original x value if the weight function is larger than the y value at a given index."
   ]
  },
  {
   "cell_type": "markdown",
   "id": "6594e17f-6cc4-4a6f-b7cd-a7a2aadc98c3",
   "metadata": {},
   "source": [
    "Q1. What is your choice of Gaussian distribtuion parameter for the importance sample?"
   ]
  },
  {
   "cell_type": "markdown",
   "id": "8b5c27e5-1f48-4bd6-a40f-7452a582aef7",
   "metadata": {},
   "source": [
    "When determining the Gaussian distribution parameter, it is important to consider the histogram from the uniform distribution, where the mean can be considered between around 1.35, and most values should lie between $3\\sigma$ so we pick a standard deviation around .75 to cover the distance from the mean to each tail (more or less) of the distribution."
   ]
  },
  {
   "cell_type": "markdown",
   "id": "5f02760a-7938-4b45-b35b-e261e8ed9813",
   "metadata": {},
   "source": [
    "Q2. What is the event weight formula?"
   ]
  },
  {
   "cell_type": "markdown",
   "id": "eac2f97e-b144-4fe2-bd34-7b098fb1de37",
   "metadata": {},
   "source": [
    "$$w(x) = \\frac{f(x)}{g(x)} = \\frac{\\beta(x)}{N(y)*Betamax}$$\n",
    "In other words, the PDF of the beta distribution of x, is divided by g(x) which is the PDF of the normal distribution of y and multiplied by betamax in the denominator. This is calculated for each element in the x and y array length. "
   ]
  },
  {
   "cell_type": "markdown",
   "id": "aa11a9f9-b07c-438d-9029-72f3581d070e",
   "metadata": {},
   "source": [
    "Q3. What is the total number of sampling (pairs of x, y) required for this MC simulation? How is this compared with the uniform sampling?\n",
    "\n"
   ]
  },
  {
   "cell_type": "code",
   "execution_count": 35,
   "id": "ae5fb5cc-d4e6-4d94-85fd-02a6873f4c0b",
   "metadata": {},
   "outputs": [
    {
     "name": "stdout",
     "output_type": "stream",
     "text": [
      "The total number of samplings required for this MC simulation is: 2057\n"
     ]
    }
   ],
   "source": [
    "print(\"The total number of samplings required for this MC simulation is: \" + str(counter2))"
   ]
  },
  {
   "cell_type": "markdown",
   "id": "e8904baa-96fc-4c49-9bf1-14d2dca6f23f",
   "metadata": {},
   "source": [
    "As we can see, this value is several thousand less than that required of the uniform sampling in order to get to N = 1000. Approximatly 2000 depending on randomness of the randomly generated values in the x and y arrays. This implies the gaussian sampling may be a better fit for this rejection sampling as less useless points are taken, then compared with the uniform sampling. Several thousands too, which is significant."
   ]
  },
  {
   "cell_type": "markdown",
   "id": "70cd8ddd-6edd-43d8-8615-0c2df2e71f2c",
   "metadata": {},
   "source": [
    "__Visualization__\n",
    "\n",
    "Plot two distribtuions and the analytic probability distribution in the same plot. Label legends and use different line style for each curve.\n",
    "\n"
   ]
  },
  {
   "cell_type": "code",
   "execution_count": 36,
   "id": "15c17ea4-7ba2-489c-af2f-bca80fcd27db",
   "metadata": {
    "tags": []
   },
   "outputs": [
    {
     "data": {
      "text/plain": [
       "<matplotlib.legend.Legend at 0x7fd9787f75b0>"
      ]
     },
     "execution_count": 36,
     "metadata": {},
     "output_type": "execute_result"
    },
    {
     "data": {
      "image/png": "[encoded data removed]",
      "text/plain": [
       "<Figure size 432x288 with 1 Axes>"
      ]
     },
     "metadata": {
      "needs_background": "light"
     },
     "output_type": "display_data"
    }
   ],
   "source": [
    "# defining linspace for plotting the function\n",
    "x_p = np.linspace(0, 1, 1002)[1:-1]\n",
    "\n",
    "# plotting the beta function and the two different histograms\n",
    "plt.plot(x_p, dist.pdf(x_p), ls=\"-\", c='black')\n",
    "plt.hist(sample, alpha = .2, color = 'red', density = True, bins = 18)\n",
    "plt.hist(sample2, alpha = .2, color = 'blue', density = True, bins = 18)\n",
    "\n",
    "# Adding all labels, details, and legend onto the plot\n",
    "plt.xlabel('X-Coordinate')\n",
    "plt.ylabel('Frequency of acceptance')\n",
    "plt.title('Uniform and Binomial Sampling for a Beta Distribution')\n",
    "plt.legend([r'Analytical $\\beta$ Distribution', 'Uniform Sampling Method', 'Gaussian Sampling Method'])"
   ]
  },
  {
   "cell_type": "markdown",
   "id": "524e02bd-60bd-4db6-ac15-8783d5e0fce7",
   "metadata": {},
   "source": [
    "The histogram plots above are a great visualization for what is happening in both cases of rejection sampling. The actual beta distribution can be seen by the black line where the maximum value hovers somewhere around 2.3. From there, the uniform sampling method which took approximately 3000 more samplings than the gaussian sampling, is plotted and shows pretty good fit to the plot. Although. some areas cound look slightly more precise than others. As for the Gaussian method, it is slightly more fitted, although still very similar to the uniform sampling method. However, it can be achieved in aproximately 3000 less samplings."
   ]
  },
  {
   "cell_type": "markdown",
   "id": "39a7cf02-de69-4dad-86c8-6e7dbf9ae964",
   "metadata": {},
   "source": [
    "__Sphere in 3D__\n",
    "Let's first start with a simple problem of determining the mass of a sphere with uniform density ρ0=2kg/m3 (kilogram per cubic meter). The sphere has a radius of 1 meter, and we initially integrate it with N=100 points."
   ]
  },
  {
   "cell_type": "markdown",
   "id": "bf170626-2795-4f1c-b5f1-51f5a642e6e7",
   "metadata": {},
   "source": [
    "Generate an array of N random numbers for the x, y, and z coordinates. Make sure that all points lie in a cube enclosing the sphere.\n",
    "\n"
   ]
  },
  {
   "cell_type": "code",
   "execution_count": 37,
   "id": "b692fbe7-2d2c-4280-922a-a6d7a07f6bd0",
   "metadata": {},
   "outputs": [],
   "source": [
    "# importing necessary imports\n",
    "from scipy import random\n",
    "import numpy as np\n",
    "import matplotlib.pyplot as plt\n",
    "\n",
    "# limits and number of coordinates\n",
    "low = -1\n",
    "high = 1\n",
    "N = 100\n",
    "  \n",
    "# generating from random uniform distribution based on limits and size above\n",
    "x = np.random.uniform(low,high,N)\n",
    "y = np.random.uniform(low,high,N)\n",
    "z = np.random.uniform(low,high,N) \n",
    "    \n",
    "# initializing empty list to hold each set of coordinates\n",
    "list_of_coordinates = []\n",
    "\n",
    "# generating 1000 pairs of coordinates\n",
    "for i in range(N):\n",
    "    # refresh the cumulative pair list every time\n",
    "    coord = []\n",
    "    coord.append(x[i])\n",
    "    coord.append(y[i])\n",
    "    coord.append(z[i])\n",
    "    # add list of both coordinates to set containing both coordinates\n",
    "    list_of_coordinates.append(coord)\n",
    "    "
   ]
  },
  {
   "cell_type": "markdown",
   "id": "ec5f16ca-2aea-4f1e-8094-269aea329c2e",
   "metadata": {},
   "source": [
    "In order to generate N random sets of coordinates in x-y-z space, we can consider the coordinates generated all independent of eachother as they are supposed to be random anyways, and from there, the values in each list corresponding to the same index can be combined together into a singular random coordinate. So, from -1 to 1, 1000 points are generated for x,y, and z and for each corresponding element per index, they are put together in a list and that list is then put into a collective list of all 100 coordinates."
   ]
  },
  {
   "cell_type": "markdown",
   "id": "8d55d35f-dd18-474e-9224-db65be760f4a",
   "metadata": {},
   "source": [
    "2). Generate an index function. This is an array that is equal to 1 for points inside the sphere and 0 outside the sphere."
   ]
  },
  {
   "cell_type": "code",
   "execution_count": 38,
   "id": "08c8d28d-6287-45e9-a586-f1f61ce63d03",
   "metadata": {},
   "outputs": [
    {
     "name": "stdout",
     "output_type": "stream",
     "text": [
      "[1 0 1 0 1 1 1 1 1 1 1 1 0 1 0 1 0 1 0 0 0 1 0 0 1 1 0 0 1 1 1 0 0 1 0 1 1\n",
      " 1 0 1 0 0 1 0 0 1 0 1 1 0 0 1 1 1 0 1 1 1 1 1 1 1 1 1 1 1 1 0 0 0 1 1 0 0\n",
      " 0 0 1 1 1 1 0 0 0 0 1 1 1 1 0 0 0 0 1 0 0 1 1 1 0 1]\n"
     ]
    }
   ],
   "source": [
    "# empty list to hold the index function\n",
    "index = []\n",
    "\n",
    "# for each list (random coordinate) in the collective list of coordinates\n",
    "for i in list_of_coordinates:\n",
    "    # 0 if point lies outside sphere as calculated by radius from origin to point\n",
    "    if np.sqrt((i[0])**2 + (i[1])**2 + (i[2])**2) > 1:\n",
    "        index.append(0)\n",
    "    # for the case that it must be within the circle\n",
    "    else:\n",
    "        index.append(1)\n",
    "\n",
    "# converting type to array\n",
    "index = np.array(index)\n",
    "print(index)\n"
   ]
  },
  {
   "cell_type": "markdown",
   "id": "fc24f2ec-c94d-4a21-adb7-73e3713389cd",
   "metadata": {},
   "source": [
    "In order to calculate the index function, we can consider the distance from the origin $(0,0,0)$ to the randomly generated point $(x_{i}, y_{i}, z_{i})$ and if it is a radius larger than 1, it will be outside of the sphere (as we consider the unit sphere). This is considered a 0, whereas inside the sphere with a radius less than 1 is considered a 1 in the index function. We check that for all 100 pairs of coordinates."
   ]
  },
  {
   "cell_type": "markdown",
   "id": "cb1bff1b-8539-4cad-b40f-b0be305572d9",
   "metadata": {},
   "source": [
    "3). Calculate the mass and uncertainty of mass by applying the Monte Carlo integration method m=V/N∑Ni=1f(x,y,z) (Think about what V means here)"
   ]
  },
  {
   "cell_type": "code",
   "execution_count": 39,
   "id": "8a34b954-15f6-4f6f-8031-5f0f13f0cc97",
   "metadata": {},
   "outputs": [
    {
     "name": "stdout",
     "output_type": "stream",
     "text": [
      "The mass of the sphere with N = 100 points is: 8.32\n",
      "The uncertainty of the mass of the sphere with N = 100 points is: 0.096\n"
     ]
    }
   ],
   "source": [
    "# N is changed to 100K\n",
    "N = 100\n",
    "\n",
    "# generating from random uniform distribution based on limits and size above\n",
    "x = np.random.uniform(low,high,N)\n",
    "y = np.random.uniform(low,high,N)\n",
    "z = np.random.uniform(low,high,N) \n",
    "    \n",
    "# initializing empty list to hold each set of coordinates\n",
    "list_of_coordinates = []\n",
    "\n",
    "# generating 1000 pairs of coordinates\n",
    "for i in range(N):\n",
    "    # refresh the cumulative pair list every time\n",
    "    coord = []\n",
    "    coord.append(x[i])\n",
    "    coord.append(y[i])\n",
    "    coord.append(z[i])\n",
    "    # add list of both coordinates to set containing both coordinates\n",
    "    list_of_coordinates.append(coord)\n",
    "\n",
    "# array to hold index function used to calculate mass\n",
    "index = []\n",
    "\n",
    "# checking if each point lies inside or outside of the sphere. If so, append a 0 to index array\n",
    "for i in list_of_coordinates:\n",
    "    if np.sqrt((i[0])**2 + (i[1])**2 + (i[2])**2) > 1:\n",
    "        index.append(0)\n",
    "    # inside sphere, index function is a 1 for that point\n",
    "    else:\n",
    "        index.append(1)\n",
    "\n",
    "# changing index to an array\n",
    "index = np.array(index)\n",
    "\n",
    "# sum of all points inside the sphere where index for them is 1\n",
    "pt_sum = (len(index[index == 1]))\n",
    "\n",
    "#volume of cube with side lengths 2 = 8\n",
    "V = 8\n",
    "\n",
    "# constant mass density\n",
    "p = 2\n",
    "\n",
    "# equation for calculating the mass of a sphere\n",
    "mass = V*p*pt_sum/N\n",
    "print(\"The mass of the sphere with N = 100 points is: \" +str(mass))\n",
    "print(\"The uncertainty of the mass of the sphere with N = 100 points is: \" + str(round(np.sqrt((1 - (pt_sum)/(int(N)))/pt_sum),3)))\n"
   ]
  },
  {
   "cell_type": "markdown",
   "id": "eae191fb-fff2-4ff1-9da4-04c7872b49f7",
   "metadata": {},
   "source": [
    "When we calculate the mass of the sphere with N = 100 points, it is clearly not enough to get close to the analytical value of about 8.377. Essentially whart happens here, is that we generate 100 independent values between -1 and 1 for the x,y, and z coordinates and combine them together into lists for cooresponding indices. This gives a list of 100 lists where each list is a set of coordinates for a point. The conditions for an index function are then checked, where the distance from the origin to the point being less than 1 is within the sphere and anything larger than 1 is not considered. Then, by the simple formula $m =\\rho * V * \\frac{\\sum{Ni}}{N} $ where the volume of the cube enclosing the sphere is 8, the total N is 100 and the sum Ni is the number of times the index is 1 in the index function. Rho is just 2 in this case as that is the constant density. This equation gives us our value for the mass which is slightly off and would benefit from more points being simulated. It is also clear that our approximate uncertainty is significantly large for only N = 100"
   ]
  },
  {
   "cell_type": "markdown",
   "id": "0b32f2af-a642-47ef-a506-0e9cfb7afd95",
   "metadata": {},
   "source": [
    "Change N from 100 to 100K with 100 steps. Plot the mass as function of N, and uncertainty of mass as function of N. Comment on the convergence of integration and agreement with the theoretical value $m=\\rho\\frac{4}{3}\\pi r^{3}=\\frac{8}{3}\\pi$."
   ]
  },
  {
   "cell_type": "code",
   "execution_count": 40,
   "id": "26bb9a9b-6235-4eb3-9204-2d9131a99524",
   "metadata": {},
   "outputs": [
    {
     "name": "stdout",
     "output_type": "stream",
     "text": [
      "The mass of the sphere with N = 100K points is: 8.40208\n",
      "The uncertainty of the mass of the sphere with N = 100K points is: 0.003\n"
     ]
    }
   ],
   "source": [
    "# N is changed to 100K\n",
    "N = 100000\n",
    "\n",
    "# generating from random uniform distribution based on limits and size above\n",
    "x = np.random.uniform(low,high,N)\n",
    "y = np.random.uniform(low,high,N)\n",
    "z = np.random.uniform(low,high,N) \n",
    "    \n",
    "# initializing empty list to hold each set of coordinates\n",
    "list_of_coordinates = []\n",
    "\n",
    "# generating 100000 pairs of coordinates\n",
    "for i in range(N):\n",
    "    # refresh the cumulative pair list every time\n",
    "    coord = []\n",
    "    coord.append(x[i])\n",
    "    coord.append(y[i])\n",
    "    coord.append(z[i])\n",
    "    # add list of both coordinates to set containing both coordinates\n",
    "    list_of_coordinates.append(coord)\n",
    "\n",
    "# array to hold index function used to calculate mass\n",
    "index = []\n",
    "\n",
    "# checking if each point lies inside or outside of the sphere. If so, append a 0 to index array\n",
    "for i in list_of_coordinates:\n",
    "    if np.sqrt((i[0])**2 + (i[1])**2 + (i[2])**2) > 1:\n",
    "        index.append(0)\n",
    "    # inside sphere, index function is a 1 for that point\n",
    "    else:\n",
    "        index.append(1)\n",
    "\n",
    "# changing index to an array\n",
    "index = np.array(index)\n",
    "\n",
    "# sum of all points inside the sphere where index for them is 1\n",
    "pt_sum = (len(index[index == 1]))\n",
    "\n",
    "#volume of cube with side lengths 2 = 8\n",
    "V = 8\n",
    "\n",
    "# constant mass density\n",
    "p = 2\n",
    "\n",
    "# equation for calculating the mass of a sphere\n",
    "mass = V*p*pt_sum/N\n",
    "\n",
    "print(\"The mass of the sphere with N = 100K points is: \" +str(mass))\n",
    "print(\"The uncertainty of the mass of the sphere with N = 100K points is: \" + str(round(np.sqrt((1 - (pt_sum)/(int(N)))/pt_sum),3)))"
   ]
  },
  {
   "cell_type": "markdown",
   "id": "e327670f-3ffe-4368-a4cb-4d02b0ac0bf8",
   "metadata": {},
   "source": [
    "For clarity, the mass is calculated with 100K points and it is clear that the ionly thing changed was the number of points. This led to a more accurate value when compared to the analytical value of 8.377, so when we plot the mass vs N we should expect a convergence with increasing N. As expected, our calcualted uncertainty went down an order of magnitude as well, further supporting the convergence of simulated mass with increasing N."
   ]
  },
  {
   "cell_type": "code",
   "execution_count": 41,
   "id": "3310250f-39d8-4a76-80e7-afbede5fbe0a",
   "metadata": {},
   "outputs": [
    {
     "data": {
      "image/png": "[encoded data removed]",
      "text/plain": [
       "<Figure size 432x288 with 1 Axes>"
      ]
     },
     "metadata": {
      "needs_background": "light"
     },
     "output_type": "display_data"
    },
    {
     "data": {
      "image/png": "[encoded data removed]",
      "text/plain": [
       "<Figure size 432x288 with 1 Axes>"
      ]
     },
     "metadata": {
      "needs_background": "light"
     },
     "output_type": "display_data"
    }
   ],
   "source": [
    "# starting value\n",
    "n_in = 100\n",
    "# ending value\n",
    "n_fin = 100000\n",
    "# linspace from starting to end in 100 steps\n",
    "n_vals = np.linspace(start = n_in, stop = n_fin, num = 100)\n",
    "\n",
    "# lists to hold values of coordinates, masses, and uncertainties\n",
    "list_of_coordinates = []\n",
    "masses = []\n",
    "uncertainties = []\n",
    "\n",
    "# for each step of N defined in linspace\n",
    "for N in n_vals:\n",
    "    # generating from random uniform distribution based on limits and size above\n",
    "    x = np.random.uniform(low,high,int(N))\n",
    "    y = np.random.uniform(low,high,int(N))\n",
    "    z = np.random.uniform(low,high,int(N)) \n",
    "    \n",
    "    # initializing empty list to hold each set of coordinates\n",
    "    list_of_coordinates = []\n",
    "    \n",
    "    # generating N pairs of coordinates\n",
    "    for i in range(int(N)):\n",
    "        # refresh the cumulative pair list every time\n",
    "        coord = []\n",
    "        coord.append(x[i])\n",
    "        coord.append(y[i])\n",
    "        coord.append(z[i])\n",
    "        # add list of both coordinates to set containing both coordinates\n",
    "        list_of_coordinates.append(coord)\n",
    "\n",
    "    # array to hold index function used to calculate mass\n",
    "    index = []\n",
    "    \n",
    "    # checking if each point lies inside or outside of the sphere. If so, append a 0 to index array\n",
    "    for i in list_of_coordinates:\n",
    "        if np.sqrt((i[0])**2 + (i[1])**2 + (i[2])**2) > 1:\n",
    "            index.append(0)\n",
    "        # inside sphere, index function is a 1 for that point\n",
    "        else:\n",
    "            index.append(1)\n",
    "\n",
    "    # changing index to an array\n",
    "    index = np.array(index)\n",
    "\n",
    "    # sum of all points inside the sphere where index for them is 1\n",
    "    pt_sum = (len(index[index == 1]))\n",
    "\n",
    "    #volume of cube with side lengths 2 = 8\n",
    "    V = 8\n",
    "\n",
    "    # constant mass density\n",
    "    p = 2\n",
    "\n",
    "    # equation for calculating the mass of a sphere\n",
    "    mass = V*p*pt_sum/int(N)\n",
    "    \n",
    "    # appending mass to list for later plotting\n",
    "    masses.append(mass)\n",
    "    \n",
    "    #uncertainty to append to list for later plotting. Scales with 1/sqrt(N)\n",
    "    uncertain  = np.sqrt((1 - (pt_sum)/(int(N)))/pt_sum)\n",
    "    uncertainties.append(uncertain)\n",
    "    \n",
    "# theoretical value of the mass plotted, along with N vs mass\n",
    "theoretical = np.ones(100) * 8.37758\n",
    "plt.plot(n_vals,masses, color = 'black')\n",
    "plt.plot(n_vals,theoretical, color = 'red')\n",
    "\n",
    "# Adding all labels, details, and legend onto the plot\n",
    "plt.xlabel('Number of Simulated Points')\n",
    "plt.ylabel('Predicted Mass of Sphere')\n",
    "plt.title('Covergence of Predicted Sphere Mass with Increasing N')\n",
    "plt.legend(['Simulated Mass', r'Analytical Mass = $\\frac{8}{3}\\pi$'])\n",
    "plt.show()\n",
    "\n",
    "# plotting trend of N vs uncertainty in predicted mass \n",
    "plt.plot(n_vals,uncertainties, color = 'black')\n",
    "\n",
    "# Adding all labels, details, and legend onto the plot\n",
    "plt.xlabel('Number of Simulated Points')\n",
    "plt.ylabel('Mass Uncertainty')\n",
    "plt.title('Uncertainty of Predicted Sphere Mass with Increasing N')\n",
    "plt.show()"
   ]
  },
  {
   "cell_type": "markdown",
   "id": "e20b9eb4-268c-4eb9-8a8e-d127717413b1",
   "metadata": {},
   "source": [
    "The same concept applies for calculating the mass as in the previous sections about sphere mass, except in this case, that code is stuck into another for loop. We define a linspace from N = 100 to 100K and require 100 steps. This will generate the mass 100 times for different values of N. These values, along with the uncertainties associated with then, are appended to lists which are both plotted separately against the different steps of N. Regarding the first plot of simulated mass, we can see there are fluctuations above and below the analytical value of $\\frac{8}{3}\\pi \\approx 8.377$, however the values tend to converge towards that analyitical value as N increases. The fluctuations are much less, and tend to center around that value of 8.377. Regarding the second plot, this intuitively makes sense as monte carlo simulation uncertainty should scale as $\\sqrt{\\frac{1-\\epsilon}{N}}$ by definition, and that is what the plot demonstrates along with the approximate mass values we recieve with increasing N. Smaller N values lead to a larger uncertainty, but starting to increase N will drastically improve the uncertainty until a certain point, where it can't be imporved too much more unless N is increased by a massive amount (essentially the asymptote at uncertainty = 0). More specifically, the epsilon is defined as $\\epsilon = \\frac{N}{N_0}$ where the numerator is number of times the index is 1 and $N_0$ is the number of simulated points.  "
   ]
  },
  {
   "cell_type": "markdown",
   "id": "68a8881a-5f83-4926-ad1a-f0487d38c05a",
   "metadata": {},
   "source": [
    "__b. Linear density__"
   ]
  },
  {
   "cell_type": "markdown",
   "id": "f95e3ec3-f1ad-4d30-aedb-8b6fb9cb73e7",
   "metadata": {},
   "source": [
    "Consider a density that is a linear function of the radius according to ρ(r)=ρ0r.\n",
    "\n",
    "Calculate the mass of the sphere for the case of the linear increasing density using the methodology developed in previous exercise. What is the sampling N which is large enough that the uncertainty is less than 1%."
   ]
  },
  {
   "cell_type": "code",
   "execution_count": 42,
   "id": "5600f6a8-ec4b-494e-a605-3115fa05c479",
   "metadata": {},
   "outputs": [
    {
     "name": "stdout",
     "output_type": "stream",
     "text": [
      "The sampling N which is large enough for the uncertainty to be less than .01 is: 9181 with uncertainty: 0.01\n",
      "The simulated mass for N = 100K is: 6.3046\n"
     ]
    },
    {
     "data": {
      "image/png": "[encoded data removed]",
      "text/plain": [
       "<Figure size 432x288 with 1 Axes>"
      ]
     },
     "metadata": {
      "needs_background": "light"
     },
     "output_type": "display_data"
    },
    {
     "data": {
      "image/png": "[encoded data removed]",
      "text/plain": [
       "<Figure size 432x288 with 1 Axes>"
      ]
     },
     "metadata": {
      "needs_background": "light"
     },
     "output_type": "display_data"
    }
   ],
   "source": [
    "# starting value\n",
    "n_in = 100\n",
    "# ending value\n",
    "n_fin = 100000\n",
    "# linspace from starting to end in 100 steps\n",
    "n_vals = np.linspace(start = n_in, stop = n_fin, num = 100)\n",
    "\n",
    "# lists to hold values of coordinates, masses, and uncertainties\n",
    "list_of_coordinates = []\n",
    "masses = []\n",
    "uncertainties = []\n",
    "\n",
    "# for each step of N defined in linspace\n",
    "for N in n_vals:\n",
    "    # generating from random uniform distribution based on limits and size above\n",
    "    x = np.random.uniform(low,high,int(N))\n",
    "    y = np.random.uniform(low,high,int(N))\n",
    "    z = np.random.uniform(low,high,int(N)) \n",
    "    \n",
    "    # initializing empty list to hold each set of coordinates\n",
    "    list_of_coordinates = []\n",
    "    \n",
    "    # generating N pairs of coordinates\n",
    "    for i in range(int(N)):\n",
    "        # refresh the cumulative pair list every time\n",
    "        coord = []\n",
    "        coord.append(x[i])\n",
    "        coord.append(y[i])\n",
    "        coord.append(z[i])\n",
    "        # add list of both coordinates to set containing both coordinates\n",
    "        list_of_coordinates.append(coord)\n",
    "\n",
    "    # initial density is 0, and each point density will be added for running total \n",
    "    density_sum = 0\n",
    "    \n",
    "    # index variable for use in uncertainty equation\n",
    "    # determines number of points that were in sphere\n",
    "    index = 0\n",
    "    \n",
    "    # looping through all coordinates for each N \n",
    "    for j in list_of_coordinates:\n",
    "            # if cindition satisfied of being inside the sphere\n",
    "            if np.sqrt((j[0])**2 + (j[1])**2 + (j[2])**2) <= 1:\n",
    "                \n",
    "                # increment index for condition met\n",
    "                index = index + 1\n",
    "                \n",
    "                # define the vriable radius and multiply it with the density of 2 to make linear\n",
    "                r = np.sqrt((j[0])**2 + (j[1])**2 + (j[2])**2)\n",
    "                l_density = 2 * r\n",
    "                \n",
    "                # add to running total\n",
    "                density_sum = density_sum + l_density\n",
    "                  \n",
    "\n",
    "    #volume of cube with side lengths 2 = 8\n",
    "    V = 8\n",
    "\n",
    "    # equation for calculating the mass of a sphere\n",
    "    mass = V*density_sum/int(N)\n",
    "    \n",
    "    # appending mass to list for later plotting\n",
    "    masses.append(mass)\n",
    "    \n",
    "    #uncertainty to append to list for later plotting. Scales with 1/sqrt(N)\n",
    "    uncertain  = np.sqrt((1 - (index)/(int(N)))/index)\n",
    "    uncertainties.append(uncertain)\n",
    "    \n",
    "    \n",
    "for index in range(len((uncertainties))):\n",
    "    if uncertainties[index] < .01:\n",
    "        desired_index = index\n",
    "        print(\"The sampling N which is large enough for the uncertainty to be less than .01 is: \"\n",
    "              + str(int(n_vals[index])) + \" with uncertainty: \" + str(round(uncertainties[desired_index],4)))\n",
    "        break\n",
    "        \n",
    "print(\"The simulated mass for N = 100K is: \" + str(round(masses[-1],4)))\n",
    "        \n",
    "# theoretical value of the mass plotted, along with N vs mass\n",
    "theoretical = np.ones(100) * 2*np.pi\n",
    "plt.plot(n_vals,masses, color = 'black')\n",
    "plt.plot(n_vals,theoretical, color = 'red')\n",
    "\n",
    "# Adding all labels, details, and legend onto the plot\n",
    "plt.xlabel('Number of Simulated Points')\n",
    "plt.ylabel('Predicted Mass of Sphere')\n",
    "plt.title('Covergence of Predicted Sphere Mass with Increasing N')\n",
    "plt.legend(['Simulated Mass', r'Analytical Mass = $2\\pi$'])\n",
    "plt.show()\n",
    "\n",
    "# plotting trend of N vs uncertainty in predicted mass \n",
    "plt.plot(n_vals,uncertainties, color = 'black')\n",
    "\n",
    "# Adding all labels, details, and legend onto the plot\n",
    "plt.xlabel('Number of Simulated Points')\n",
    "plt.ylabel('Mass Uncertainty')\n",
    "plt.title('Uncertainty of Predicted Sphere Mass with Increasing N')\n",
    "plt.show()"
   ]
  },
  {
   "cell_type": "markdown",
   "id": "a3dfad7a-a9ec-4729-a584-6a8e64652c75",
   "metadata": {},
   "source": [
    "In terms of this case, the density increases with radius. Thus, we still loop through the same list of n values. For each n, we generate the required number of coordinates and then we check if each point is less than radius 1. If so, we calculate that radius and multiply it by the density 2 From there, we sum up all valid poins densities. Then, we can calculate the mass by multiplying that by the volume 8 and dividing by the number of samples taken. In terms of the plots we see above, it is clear that the mass will also appear to get closer to converging to $2\\pi$ when N gets significantly large. There will be still some smaller oscillations but they are much smaller than those with very small N. We also see the Mass uncertainty scaling in the same way as before, where it scales as $\\sqrt{\\frac{1-\\epsilon}{N}}$. For larger N, the uncertainty greatly decreases. As for when the uncertainty is less than 1 percent, we can just check when the calculated uncertainty is less than that value, grab the index, and find the index in the n_vals array to find which N corresponds to it. This just happens to be usually around 10,000 points, give or take depending on randomness. We should also note the analytical value of the mass should be $2\\pi$."
   ]
  },
  {
   "cell_type": "markdown",
   "id": "104bb2d0-c321-47d5-8ca5-91ec31ed774b",
   "metadata": {},
   "source": [
    "\n",
    "__Bonus (+3 points)__"
   ]
  },
  {
   "cell_type": "markdown",
   "id": "d5e7212d-f668-42a3-b3ee-9b83693c43de",
   "metadata": {},
   "source": [
    "Consider a density that is an unit exponential function of the radius according to $\\rho(r)=\\frac{1}{\\rho_0}e^{−\\rho_0 r}$."
   ]
  },
  {
   "cell_type": "code",
   "execution_count": 43,
   "id": "9edeb658-4684-4d45-a868-14968a046379",
   "metadata": {},
   "outputs": [
    {
     "name": "stdout",
     "output_type": "stream",
     "text": [
      "The mass of the sphere with the unit exponential function density is: 0.503385560419677\n"
     ]
    }
   ],
   "source": [
    "# N is changed to 100K\n",
    "N = 100000\n",
    "\n",
    "# generating from random uniform distribution based on limits and size above\n",
    "x = np.random.uniform(low,high,N)\n",
    "y = np.random.uniform(low,high,N)\n",
    "z = np.random.uniform(low,high,N) \n",
    "    \n",
    "# initializing empty list to hold each set of coordinates\n",
    "list_of_coordinates = []\n",
    "\n",
    "# generating 1000 pairs of coordinates\n",
    "for i in range(N):\n",
    "    # refresh the cumulative pair list every time\n",
    "    coord = []\n",
    "    coord.append(x[i])\n",
    "    coord.append(y[i])\n",
    "    coord.append(z[i])\n",
    "    # add list of both coordinates to set containing both coordinates\n",
    "    list_of_coordinates.append(coord)\n",
    "\n",
    "# initializing running total of density sum to add to for each point\n",
    "density_sum = 0\n",
    "   \n",
    "# looping through all coordinates\n",
    "for j in list_of_coordinates:\n",
    "        # if satisfying the condition of being inside the sphere\n",
    "        if np.sqrt((j[0])**2 + (j[1])**2 + (j[2])**2) <= 1:\n",
    "            \n",
    "            # defining the radius \n",
    "            r = np.sqrt((j[0])**2 + (j[1])**2 + (j[2])**2)\n",
    "            \n",
    "            # density value dep\n",
    "            density = .5*np.exp(-2*r)\n",
    "            density_sum = density_sum + density\n",
    "\n",
    "print(\"The mass of the sphere with the unit exponential function density is: \" + str((8*density_sum/N)))"
   ]
  },
  {
   "cell_type": "markdown",
   "id": "a5d8acf5-033e-464a-9f19-b06ffc17d802",
   "metadata": {},
   "source": [
    "The same concept is followed as the linear density problem, where we calculate the individual density at each point, except in this case, we don't have $2r$, but rather an exponentially decaying density with radius. Hence, we get a smaller value that the linearly increasing (with radius) density where $\\rho(r)=\\frac{1}{\\rho_0}e^{−\\rho_0 r}$. "
   ]
  }
 ],
 "metadata": {
  "kernelspec": {
   "display_name": "Python 3 (ipykernel)",
   "language": "python",
   "name": "python3"
  },
  "language_info": {
   "codemirror_mode": {
    "name": "ipython",
    "version": 3
   },
   "file_extension": ".py",
   "mimetype": "text/x-python",
   "name": "python",
   "nbconvert_exporter": "python",
   "pygments_lexer": "ipython3",
   "version": "3.9.7"
  }
 },
 "nbformat": 4,
 "nbformat_minor": 5
}
